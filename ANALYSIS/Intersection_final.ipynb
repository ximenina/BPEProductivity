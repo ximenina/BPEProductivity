{
 "cells": [
  {
   "cell_type": "code",
   "execution_count": 115,
   "id": "rubber-cocktail",
   "metadata": {},
   "outputs": [],
   "source": [
    "%matplotlib widget\n",
    "import os\n",
    "import sys\n",
    "from re import sub\n",
    "import numpy as np\n",
    "from collections import defaultdict, Counter\n",
    "#from nltk.util import ngrams\n",
    "from random import sample\n",
    "from itertools import chain\n",
    "import pandas as pd\n",
    "#import seaborn as sb\n",
    "\n",
    "import sklearn\n",
    "\n",
    "from sklearn.cluster import KMeans\n",
    "from sklearn.preprocessing import StandardScaler\n",
    "\n",
    "import matplotlib.pyplot as plt\n",
    "plt.rcParams['figure.figsize'] = [15, 6]\n",
    "from pandas import DataFrame"
   ]
  },
  {
   "cell_type": "raw",
   "id": "approved-circular",
   "metadata": {},
   "source": [
    "Average, scale and center"
   ]
  },
  {
   "cell_type": "code",
   "execution_count": 116,
   "id": "catholic-timothy",
   "metadata": {},
   "outputs": [
    {
     "data": {
      "application/vnd.jupyter.widget-view+json": {
       "model_id": "e586d99745f1485d8845b13ff8c0f99f",
       "version_major": 2,
       "version_minor": 0
      },
      "text/plain": [
       "Canvas(toolbar=Toolbar(toolitems=[('Home', 'Reset original view', 'home', 'home'), ('Back', 'Back to previous …"
      ]
     },
     "metadata": {},
     "output_type": "display_data"
    }
   ],
   "source": [
    "directory=\"tsv_jw300intersection_nooutliers/\"  #tsv directory \n",
    "all_files = os.listdir(directory)\n",
    "\n",
    "df_avg = pd.DataFrame(columns = ['file', 'word_types', 'cum_freq', 'idiosincracy_index'])\n",
    "\n",
    "for n in all_files:\n",
    "\tinputcorpus=directory+n\n",
    "\tdata = pd.read_csv(inputcorpus,  sep='\\t')\n",
    "\t#print (\"Processing\"+n)\n",
    "\n",
    "\tfileparts=n.split(\".\")\n",
    "\tisocode=fileparts[0].split(\"-\")\n",
    "\n",
    "\tx = data['word_types'].mean()\n",
    "\ty = data['cum_freq'].mean()\n",
    "\tz = data['idiosincracy_index'].mean()\n",
    "\n",
    "\tdf_aux = pd.DataFrame([[isocode[0], x,y,z]], columns=['file', 'word_types', 'cum_freq', 'idiosincracy_index'])\n",
    "\tdf_avg=df_avg.append(df_aux)\n",
    "\n",
    "#print(df_avg.describe())\n",
    "df_isocodes=df_avg.iloc[:, 0:1] \n",
    "df_isocodes=df_isocodes.reset_index(drop=True)\n",
    "\n",
    "\n",
    "df_avg.columns = range(df_avg.shape[1]) #remove header\n",
    "df_avg = df_avg.iloc[: , 1:]  #remove first column\n",
    "\n",
    "# perform a robust scaler transform of the dataset\n",
    "trans = StandardScaler()\n",
    "data = trans.fit_transform(df_avg)\n",
    "# convert the array back to a dataframe\n",
    "df_data= DataFrame(data)\n",
    "df_avg_transformed=df_isocodes.join(df_data)\n",
    "df_avg_transformed.rename(columns={0:'word_types',\n",
    "                          1:'cum_freq',\n",
    "                          2:'idiosincracy_index'}, \n",
    "                 inplace=True)\n",
    "#df_avg_transformed.hist()\n",
    "\n",
    "output=directory.replace('/', '')\n",
    "output=output.replace('tsv_', '')\n",
    "output=output+\"_avgscaler\"\n",
    "\n",
    "#plt.savefig(output+\".png\")\n",
    "\n",
    "  \n",
    "df_avg_transformed.to_csv(output+\".csv\", index=False,)\n",
    "\n",
    "\n",
    "###################################3\n",
    "directory=\"tsv_200_corpusPBC_intersection_nooutliers/\"  #tsv directory \n",
    "all_files = os.listdir(directory)\n",
    "\n",
    "df_avg = pd.DataFrame(columns = ['file', 'word_types', 'cum_freq', 'idiosincracy_index'])\n",
    "\n",
    "for n in all_files:\n",
    "\tinputcorpus=directory+n\n",
    "\tdata = pd.read_csv(inputcorpus,  sep='\\t')\n",
    "\t#print (\"Processing\"+n)\n",
    "\n",
    "\tfileparts=n.split(\".\")\n",
    "\tisocode=fileparts[0].split(\"-\")\n",
    "\n",
    "\tx = data['word_types'].mean()\n",
    "\ty = data['cum_freq'].mean()\n",
    "\tz = data['idiosincracy_index'].mean()\n",
    "\n",
    "\tdf_aux = pd.DataFrame([[isocode[0], x,y,z]], columns=['file', 'word_types', 'cum_freq', 'idiosincracy_index'])\n",
    "\tdf_avg=df_avg.append(df_aux)\n",
    "\n",
    "#print(df_avg.describe())\n",
    "df_isocodes=df_avg.iloc[:, 0:1] \n",
    "df_isocodes=df_isocodes.reset_index(drop=True)\n",
    "\n",
    "\n",
    "df_avg.columns = range(df_avg.shape[1]) #remove header\n",
    "df_avg = df_avg.iloc[: , 1:]  #remove first column\n",
    "\n",
    "# perform a robust scaler transform of the dataset\n",
    "trans = StandardScaler()\n",
    "data = trans.fit_transform(df_avg)\n",
    "# convert the array back to a dataframe\n",
    "df_data= DataFrame(data)\n",
    "df_avg_transformed2=df_isocodes.join(df_data)\n",
    "df_avg_transformed2.rename(columns={0:'word_types',\n",
    "                          1:'cum_freq',\n",
    "                          2:'idiosincracy_index'}, \n",
    "                 inplace=True)\n",
    "#df_avg_transformed = pd.DataFrame([[df_isocodes,df_data]])\n",
    "#df_avg_transformed.hist()\n",
    "# summarize\n",
    "\n",
    "output=directory.replace('/', '')\n",
    "output=output.replace('tsv_', '')\n",
    "output=output+\"_avgscaler\"\n",
    "\n",
    "\n",
    "  \n",
    "df_avg_transformed2.to_csv(output+\".csv\", index=False,)\n",
    "\n",
    "#########################################\n",
    "\n",
    "fig = plt.figure(figsize=(20, 10))\n",
    "ax = fig.add_subplot(111, projection='3d')\n",
    "\n",
    "xs = df_avg_transformed['word_types']\n",
    "ys = df_avg_transformed['cum_freq']\n",
    "zs = df_avg_transformed['idiosincracy_index']\n",
    "labels=df_avg_transformed['file']\n",
    "\n",
    "ax.set_xlabel('Num. of types that contain the subword')\n",
    "ax.set_ylabel('Cum. freq')\n",
    "ax.set_zlabel('Idiosincracy_index')\n",
    "ax.set_xlim(-3, 3)\n",
    "ax.set_ylim(-2.5, 2.5)\n",
    "ax.set_zlim(-3,3)\n",
    "#plt.zlim([-3, 3])\n",
    "ax.scatter(xs, ys, zs, s=50, alpha=0.6, edgecolors='w')\n",
    "\n",
    "for x, y, z, label in zip(xs, ys, zs, labels):\n",
    "    ax.text(x, y, z, label)\n",
    "    \n",
    "xs = df_avg_transformed2['word_types']\n",
    "ys = df_avg_transformed2['cum_freq']\n",
    "zs = df_avg_transformed2['idiosincracy_index']\n",
    "labels=df_avg_transformed2['file']\n",
    "\n",
    "ax.set_xlabel('Num. of types that contain the subword')\n",
    "ax.set_ylabel('Cum. freq')\n",
    "ax.set_zlabel('Idiosincracy_index')\n",
    "\n",
    "ax.scatter(xs, ys, zs, s=50, alpha=0.6, edgecolors='w')\n",
    "\n",
    "for x, y, z, label in zip(xs, ys, zs, labels):\n",
    "    ax.text(x, y, z, label)\n",
    "    \n",
    "\n",
    "plt.savefig(output+\"_overlap.png\")\n",
    "\n"
   ]
  },
  {
   "cell_type": "raw",
   "id": "affecting-prison",
   "metadata": {},
   "source": [
    "REGIONS"
   ]
  },
  {
   "cell_type": "raw",
   "id": "ecological-category",
   "metadata": {},
   "source": [
    "Zero as the center"
   ]
  },
  {
   "cell_type": "code",
   "execution_count": 117,
   "id": "silent-topic",
   "metadata": {},
   "outputs": [],
   "source": [
    "#open csv into a frame:\n",
    "inputcorpus=\"jw300intersection_nooutliers_avgscaler.csv\"\n",
    "data = pd.read_csv(inputcorpus,index_col=0)\n",
    "data\n",
    "criteriax=0\n",
    "criteriay=0\n",
    "criteriaz=0\n",
    "#Regions:\n",
    "lowlowlow= pd.DataFrame(data.loc[(data['word_types']<criteriax) & (data['cum_freq']<criteriay)&(data['idiosincracy_index']<criteriaz)])\n",
    "lowlowlow['region']=1\n",
    "\n",
    "lowlowhigh=pd.DataFrame(data.loc[(data['word_types']<criteriax) & (data['cum_freq']<criteriay)&(data['idiosincracy_index']>criteriaz)])\n",
    "lowlowhigh['region']=2\n",
    "\n",
    "lowhighlow=pd.DataFrame(data.loc[(data['word_types']<criteriax) & (data['cum_freq']>criteriay)&(data['idiosincracy_index']<criteriaz)])\n",
    "lowhighlow['region']=3\n",
    "\n",
    "lowhighhigh=pd.DataFrame(data.loc[(data['word_types']<criteriax) & (data['cum_freq']>criteriay)&(data['idiosincracy_index']>criteriaz)])\n",
    "lowhighhigh['region']=4\n",
    "\n",
    "highhighhigh=pd.DataFrame(data.loc[(data['word_types']>criteriax) & (data['cum_freq']>criteriay)&(data['idiosincracy_index']>criteriaz)])\n",
    "highhighhigh['region']=5\n",
    "\n",
    "highhighlow=pd.DataFrame(data.loc[(data['word_types']>criteriax) & (data['cum_freq']>criteriay)&(data['idiosincracy_index']<criteriaz)])\n",
    "highhighlow['region']=6\n",
    "\n",
    "highlowhigh=pd.DataFrame(data.loc[(data['word_types']>criteriax) & (data['cum_freq']<criteriay)&(data['idiosincracy_index']>criteriaz)])\n",
    "highlowhigh['region']=7\n",
    "\n",
    "highlowlow=pd.DataFrame(data.loc[(data['word_types']>criteriax) & (data['cum_freq']<criteriay)&(data['idiosincracy_index']<criteriaz)])\n",
    "highlowlow['region']=8\n",
    "#=filter(A2:D25,B2:B25<=B26, C2:C25<=C26,D2:D25<=D26)\n",
    "#vertical concatenation:\n",
    "data_regions= pd.concat([lowlowlow, lowlowhigh, lowhighlow, lowhighhigh, highhighhigh, highhighlow, highlowhigh, highlowlow  ], axis=0)\n",
    "\n",
    "output=inputcorpus.replace('.csv', '')\n",
    "output=output+\"_avgscaler_regions\"\n",
    "data_regions.to_csv(output+\".csv\")\n",
    "\n",
    "colors=data_regions['region'].tolist()\n",
    "labels=data_regions.index.tolist() #languages\n",
    "\n",
    "###\n"
   ]
  },
  {
   "cell_type": "code",
   "execution_count": 118,
   "id": "unsigned-billy",
   "metadata": {},
   "outputs": [
    {
     "data": {
      "application/vnd.jupyter.widget-view+json": {
       "model_id": "6848054dbc8540c5adaeca37531e474b",
       "version_major": 2,
       "version_minor": 0
      },
      "text/plain": [
       "Canvas(toolbar=Toolbar(toolitems=[('Home', 'Reset original view', 'home', 'home'), ('Back', 'Back to previous …"
      ]
     },
     "metadata": {},
     "output_type": "display_data"
    },
    {
     "data": {
      "text/plain": [
       "<matplotlib.colorbar.Colorbar at 0x7f7ae073d940>"
      ]
     },
     "execution_count": 118,
     "metadata": {},
     "output_type": "execute_result"
    }
   ],
   "source": [
    "fig = plt.figure(figsize=(20, 10))\n",
    "ax = fig.add_subplot(111, projection='3d')\n",
    "\n",
    "xs = data_regions['word_types']\n",
    "ys = data_regions['cum_freq']\n",
    "zs = data_regions['idiosincracy_index']\n",
    "\n",
    "\n",
    "ax.set_xlabel('Num. of types that contain the subword')\n",
    "ax.set_ylabel('Cum. freq')\n",
    "ax.set_zlabel('Idiosincracy_index')\n",
    "\n",
    "img=ax.scatter(xs, ys, zs, s=50, alpha=0.6, edgecolors='w', c=colors,cmap='Dark2')\n",
    "\n",
    "for x, y, z, label in zip(xs, ys, zs, labels):\n",
    "   ax.text(x, y, z, label)\n",
    "    \n",
    "fig.colorbar(img)"
   ]
  },
  {
   "cell_type": "code",
   "execution_count": 119,
   "id": "iraqi-feature",
   "metadata": {},
   "outputs": [
    {
     "data": {
      "application/vnd.jupyter.widget-view+json": {
       "model_id": "90501de0b2b149e8a6025190fe30c426",
       "version_major": 2,
       "version_minor": 0
      },
      "text/plain": [
       "Canvas(toolbar=Toolbar(toolitems=[('Home', 'Reset original view', 'home', 'home'), ('Back', 'Back to previous …"
      ]
     },
     "metadata": {},
     "output_type": "display_data"
    },
    {
     "data": {
      "text/plain": [
       "<matplotlib.colorbar.Colorbar at 0x7f7ae065f128>"
      ]
     },
     "execution_count": 119,
     "metadata": {},
     "output_type": "execute_result"
    }
   ],
   "source": [
    "#open csv into a frame:\n",
    "inputcorpus=\"200_corpusPBC_intersection_nooutliers_avgscaler.csv\"\n",
    "data = pd.read_csv(inputcorpus,index_col=0)\n",
    "data\n",
    "criteriax=0\n",
    "criteriay=0\n",
    "criteriaz=0\n",
    "#Regions:\n",
    "lowlowlow= pd.DataFrame(data.loc[(data['word_types']<criteriax) & (data['cum_freq']<criteriay)&(data['idiosincracy_index']<criteriaz)])\n",
    "lowlowlow['region']=1\n",
    "\n",
    "lowlowhigh=pd.DataFrame(data.loc[(data['word_types']<criteriax) & (data['cum_freq']<criteriay)&(data['idiosincracy_index']>criteriaz)])\n",
    "lowlowhigh['region']=2\n",
    "\n",
    "lowhighlow=pd.DataFrame(data.loc[(data['word_types']<criteriax) & (data['cum_freq']>criteriay)&(data['idiosincracy_index']<criteriaz)])\n",
    "lowhighlow['region']=3\n",
    "\n",
    "lowhighhigh=pd.DataFrame(data.loc[(data['word_types']<criteriax) & (data['cum_freq']>criteriay)&(data['idiosincracy_index']>criteriaz)])\n",
    "lowhighhigh['region']=4\n",
    "\n",
    "highhighhigh=pd.DataFrame(data.loc[(data['word_types']>criteriax) & (data['cum_freq']>criteriay)&(data['idiosincracy_index']>criteriaz)])\n",
    "highhighhigh['region']=5\n",
    "\n",
    "highhighlow=pd.DataFrame(data.loc[(data['word_types']>criteriax) & (data['cum_freq']>criteriay)&(data['idiosincracy_index']<criteriaz)])\n",
    "highhighlow['region']=6\n",
    "\n",
    "highlowhigh=pd.DataFrame(data.loc[(data['word_types']>criteriax) & (data['cum_freq']<criteriay)&(data['idiosincracy_index']>criteriaz)])\n",
    "highlowhigh['region']=7\n",
    "\n",
    "highlowlow=pd.DataFrame(data.loc[(data['word_types']>criteriax) & (data['cum_freq']<criteriay)&(data['idiosincracy_index']<criteriaz)])\n",
    "highlowlow['region']=8\n",
    "#=filter(A2:D25,B2:B25<=B26, C2:C25<=C26,D2:D25<=D26)\n",
    "#vertical concatenation:\n",
    "data_regions= pd.concat([lowlowlow, lowlowhigh, lowhighlow, lowhighhigh, highhighhigh, highhighlow, highlowhigh, highlowlow  ], axis=0)\n",
    "\n",
    "output=inputcorpus.replace('.csv', '')\n",
    "output=output+\"_avgscaler_regions\"\n",
    "data_regions.to_csv(output+\".csv\")\n",
    "\n",
    "colors=data_regions['region'].tolist()\n",
    "labels=data_regions.index.tolist() #languages\n",
    "\n",
    "###\n",
    "fig = plt.figure(figsize=(20, 10))\n",
    "ax = fig.add_subplot(111, projection='3d')\n",
    "\n",
    "xs = data_regions['word_types']\n",
    "ys = data_regions['cum_freq']\n",
    "zs = data_regions['idiosincracy_index']\n",
    "\n",
    "\n",
    "ax.set_xlabel('Num. of types that contain the subword')\n",
    "ax.set_ylabel('Cum. freq')\n",
    "ax.set_zlabel('Idiosincracy_index')\n",
    "\n",
    "img=ax.scatter(xs, ys, zs, s=50, alpha=0.6, edgecolors='w', c=colors,cmap='Dark2')\n",
    "\n",
    "for x, y, z, label in zip(xs, ys, zs, labels):\n",
    "   ax.text(x, y, z, label)\n",
    "    \n",
    "fig.colorbar(img)"
   ]
  },
  {
   "cell_type": "raw",
   "id": "pleased-virginia",
   "metadata": {},
   "source": [
    "CLASSIC CLUSTERING"
   ]
  },
  {
   "cell_type": "code",
   "execution_count": 120,
   "id": "colored-happening",
   "metadata": {},
   "outputs": [
    {
     "data": {
      "application/vnd.jupyter.widget-view+json": {
       "model_id": "a7101737150b4873908080d6198aeed0",
       "version_major": 2,
       "version_minor": 0
      },
      "text/plain": [
       "Canvas(toolbar=Toolbar(toolitems=[('Home', 'Reset original view', 'home', 'home'), ('Back', 'Back to previous …"
      ]
     },
     "metadata": {},
     "output_type": "display_data"
    }
   ],
   "source": [
    "inputcorpus=\"jw300intersection_nooutliers_avgscaler.csv\"\n",
    "data = pd.read_csv(inputcorpus,index_col=0)\n",
    "mat = data.values\n",
    "kclusters=8\n",
    "##Clustering\n",
    "km = sklearn.cluster.KMeans(n_clusters=kclusters)\n",
    "km.fit(mat)\n",
    "# Get cluster assignment labels\n",
    "labels_clustering = km.labels_\n",
    "\n",
    "\n",
    "fig = plt.figure(figsize=(20, 10))\n",
    "\t#fig = plt.figure()\n",
    "ax = fig.add_subplot(111, projection='3d')\n",
    "\n",
    "xs = data['word_types']\n",
    "ys = data['cum_freq']\n",
    "zs = data['idiosincracy_index']\n",
    "labels=data.index.tolist() #languages\n",
    "\n",
    "\n",
    "ax.set_xlabel('Num. of types that contain the subword')\n",
    "ax.set_ylabel('Cum. freq')\n",
    "ax.set_zlabel('Idiosincracy_index')\n",
    "\n",
    "img=ax.scatter(xs, ys, zs, s=50, c=labels_clustering)\n",
    "for x, y, z, label in zip(xs, ys, zs, labels):\n",
    "    \tax.text(x, y, z, label)\n",
    "\n",
    "fig.colorbar(img)\n",
    "\n",
    "##Prepare CSV:\n",
    "\n",
    "data['cluster'] = labels_clustering\n",
    "output=inputcorpus.replace('.csv', '')\n",
    "output=output+\"_avgscaler_\"+str(kclusters)+\"cluster\"\n",
    "data.to_csv(output+\".csv\")"
   ]
  },
  {
   "cell_type": "code",
   "execution_count": 121,
   "id": "ceramic-wealth",
   "metadata": {},
   "outputs": [
    {
     "data": {
      "application/vnd.jupyter.widget-view+json": {
       "model_id": "c63a08bcc18b4bab92f5d4fa5c59e52c",
       "version_major": 2,
       "version_minor": 0
      },
      "text/plain": [
       "Canvas(toolbar=Toolbar(toolitems=[('Home', 'Reset original view', 'home', 'home'), ('Back', 'Back to previous …"
      ]
     },
     "metadata": {},
     "output_type": "display_data"
    }
   ],
   "source": [
    "inputcorpus=\"200_corpusPBC_intersection_nooutliers_avgscaler.csv\"\n",
    "data = pd.read_csv(inputcorpus,index_col=0)\n",
    "mat = data.values\n",
    "kclusters=8\n",
    "##Clustering\n",
    "km = sklearn.cluster.KMeans(n_clusters=kclusters)\n",
    "km.fit(mat)\n",
    "# Get cluster assignment labels\n",
    "labels_clustering = km.labels_\n",
    "\n",
    "\n",
    "fig = plt.figure(figsize=(20, 10))\n",
    "\t#fig = plt.figure()\n",
    "ax = fig.add_subplot(111, projection='3d')\n",
    "\n",
    "xs = data['word_types']\n",
    "ys = data['cum_freq']\n",
    "zs = data['idiosincracy_index']\n",
    "labels=data.index.tolist() #languages\n",
    "\n",
    "\n",
    "ax.set_xlabel('Num. of types that contain the subword')\n",
    "ax.set_ylabel('Cum. freq')\n",
    "ax.set_zlabel('Idiosincracy_index')\n",
    "\n",
    "img=ax.scatter(xs, ys, zs, s=50, c=labels_clustering)\n",
    "for x, y, z, label in zip(xs, ys, zs, labels):\n",
    "    \tax.text(x, y, z, label)\n",
    "\n",
    "fig.colorbar(img)\n",
    "\n",
    "##Prepare CSV:\n",
    "\n",
    "data['cluster'] = labels_clustering\n",
    "output=inputcorpus.replace('.csv', '')\n",
    "output=output+\"_avgscaler_\"+str(kclusters)+\"cluster\"\n",
    "data.to_csv(output+\".csv\")"
   ]
  },
  {
   "cell_type": "code",
   "execution_count": 113,
   "id": "tender-security",
   "metadata": {},
   "outputs": [
    {
     "data": {
      "application/vnd.jupyter.widget-view+json": {
       "model_id": "3609e21da8ae4e368f033477327c582a",
       "version_major": 2,
       "version_minor": 0
      },
      "text/plain": [
       "Canvas(toolbar=Toolbar(toolitems=[('Home', 'Reset original view', 'home', 'home'), ('Back', 'Back to previous …"
      ]
     },
     "metadata": {},
     "output_type": "display_data"
    }
   ],
   "source": [
    "import scipy.cluster.hierarchy as shc\n",
    "\n",
    "inputcorpus=\"jw300intersection_nooutliers_avgscaler.csv\"\n",
    "linkage_method='ward'\n",
    "\n",
    "data = pd.read_csv(inputcorpus,index_col=0)\n",
    "mat = data.values\n",
    "labels=data.index.tolist() #languages\n",
    "\n",
    "plt.figure(figsize=(10, 7))\n",
    "plt.title(\"Customer Dendograms\")\n",
    "dend = shc.dendrogram(shc.linkage(mat, method=linkage_method), labels=labels)\n",
    "\n",
    "output=inputcorpus.replace('.csv', '')\n",
    "plt.savefig(output+\"_dendogram_languages_\"+linkage_method+\".png\")  \n"
   ]
  },
  {
   "cell_type": "code",
   "execution_count": 114,
   "id": "reported-lucas",
   "metadata": {},
   "outputs": [
    {
     "data": {
      "application/vnd.jupyter.widget-view+json": {
       "model_id": "158acd5154bf4948a95798ed2b49ab69",
       "version_major": 2,
       "version_minor": 0
      },
      "text/plain": [
       "Canvas(toolbar=Toolbar(toolitems=[('Home', 'Reset original view', 'home', 'home'), ('Back', 'Back to previous …"
      ]
     },
     "metadata": {},
     "output_type": "display_data"
    }
   ],
   "source": [
    "import scipy.cluster.hierarchy as shc\n",
    "\n",
    "inputcorpus=\"200_corpusPBC_intersection_nooutliers_avgscaler.csv\"\n",
    "linkage_method='ward'\n",
    "\n",
    "data = pd.read_csv(inputcorpus,index_col=0)\n",
    "mat = data.values\n",
    "labels=data.index.tolist() #languages\n",
    "\n",
    "plt.figure(figsize=(10, 7))\n",
    "plt.title(\"Customer Dendograms\")\n",
    "dend = shc.dendrogram(shc.linkage(mat, method=linkage_method), labels=labels)\n",
    "\n",
    "output=inputcorpus.replace('.csv', '')\n",
    "plt.savefig(output+\"_dendogram_languages_\"+linkage_method+\".png\")  "
   ]
  },
  {
   "cell_type": "raw",
   "id": "median-difference",
   "metadata": {},
   "source": [
    "Regions, avg point as a reference"
   ]
  },
  {
   "cell_type": "code",
   "execution_count": 83,
   "id": "optional-consent",
   "metadata": {},
   "outputs": [
    {
     "data": {
      "application/vnd.jupyter.widget-view+json": {
       "model_id": "34a77207b64d497ca283c0a901417227",
       "version_major": 2,
       "version_minor": 0
      },
      "text/plain": [
       "Canvas(toolbar=Toolbar(toolitems=[('Home', 'Reset original view', 'home', 'home'), ('Back', 'Back to previous …"
      ]
     },
     "metadata": {},
     "output_type": "display_data"
    },
    {
     "data": {
      "text/plain": [
       "<matplotlib.colorbar.Colorbar at 0x7f7ae20f9320>"
      ]
     },
     "execution_count": 83,
     "metadata": {},
     "output_type": "execute_result"
    }
   ],
   "source": [
    "#open csv into a frame:\n",
    "inputcorpus=\"jw300intersection_nooutliers_avgscaler.csv\"\n",
    "data = pd.read_csv(inputcorpus,index_col=0)\n",
    "\n",
    "criteriax=data['word_types'].mean()\n",
    "criteriay=data['cum_freq'].mean()\n",
    "criteriaz=data['idiosincracy_index'].mean()\n",
    "#Regions:\n",
    "lowlowlow= pd.DataFrame(data.loc[(data['word_types']<criteriax) & (data['cum_freq']<criteriay)&(data['idiosincracy_index']<criteriaz)])\n",
    "lowlowlow['region']=1\n",
    "\n",
    "lowlowhigh=pd.DataFrame(data.loc[(data['word_types']<criteriax) & (data['cum_freq']<criteriay)&(data['idiosincracy_index']>criteriaz)])\n",
    "lowlowhigh['region']=2\n",
    "\n",
    "lowhighlow=pd.DataFrame(data.loc[(data['word_types']<criteriax) & (data['cum_freq']>criteriay)&(data['idiosincracy_index']<criteriaz)])\n",
    "lowhighlow['region']=3\n",
    "\n",
    "lowhighhigh=pd.DataFrame(data.loc[(data['word_types']<criteriax) & (data['cum_freq']>criteriay)&(data['idiosincracy_index']>criteriaz)])\n",
    "lowhighhigh['region']=4\n",
    "\n",
    "highhighhigh=pd.DataFrame(data.loc[(data['word_types']>criteriax) & (data['cum_freq']>criteriay)&(data['idiosincracy_index']>criteriaz)])\n",
    "highhighhigh['region']=5\n",
    "\n",
    "highhighlow=pd.DataFrame(data.loc[(data['word_types']>criteriax) & (data['cum_freq']>criteriay)&(data['idiosincracy_index']<criteriaz)])\n",
    "highhighlow['region']=6\n",
    "\n",
    "highlowhigh=pd.DataFrame(data.loc[(data['word_types']>criteriax) & (data['cum_freq']<criteriay)&(data['idiosincracy_index']>criteriaz)])\n",
    "highlowhigh['region']=7\n",
    "\n",
    "highlowlow=pd.DataFrame(data.loc[(data['word_types']>criteriax) & (data['cum_freq']<criteriay)&(data['idiosincracy_index']<criteriaz)])\n",
    "highlowlow['region']=8\n",
    "#=filter(A2:D25,B2:B25<=B26, C2:C25<=C26,D2:D25<=D26)\n",
    "#vertical concatenation:\n",
    "data_regions= pd.concat([lowlowlow, lowlowhigh, lowhighlow, lowhighhigh, highhighhigh, highhighlow, highlowhigh, highlowlow  ], axis=0)\n",
    "\n",
    "output=inputcorpus.replace('.csv', '')\n",
    "output=output+\"_avgscaler_regions\"\n",
    "data_regions.to_csv(output+\".csv\")\n",
    "\n",
    "colors=data_regions['region'].tolist()\n",
    "labels=data_regions.index.tolist() #languages\n",
    "\n",
    "###\n",
    "\n",
    "fig = plt.figure(figsize=(20, 10))\n",
    "ax = fig.add_subplot(111, projection='3d')\n",
    "\n",
    "xs = data_regions['word_types']\n",
    "ys = data_regions['cum_freq']\n",
    "zs = data_regions['idiosincracy_index']\n",
    "\n",
    "\n",
    "ax.set_xlabel('Num. of types that contain the subword')\n",
    "ax.set_ylabel('Cum. freq')\n",
    "ax.set_zlabel('Idiosincracy_index')\n",
    "#ax.set_xlim(-3, 3)\n",
    "#ax.set_ylim(-2.5, 2.5)\n",
    "#ax.set_zlim(-3,3)\n",
    "\n",
    "img=ax.scatter(xs, ys, zs, s=50, alpha=0.6, edgecolors='w', c=colors,cmap='Dark2')\n",
    "\n",
    "for x, y, z, label in zip(xs, ys, zs, labels):\n",
    "   ax.text(x, y, z, label)\n",
    "    \n",
    "fig.colorbar(img)\n"
   ]
  },
  {
   "cell_type": "code",
   "execution_count": 84,
   "id": "supposed-variance",
   "metadata": {},
   "outputs": [
    {
     "data": {
      "application/vnd.jupyter.widget-view+json": {
       "model_id": "9755b04c98cf464ea2be836971165086",
       "version_major": 2,
       "version_minor": 0
      },
      "text/plain": [
       "Canvas(toolbar=Toolbar(toolitems=[('Home', 'Reset original view', 'home', 'home'), ('Back', 'Back to previous …"
      ]
     },
     "metadata": {},
     "output_type": "display_data"
    },
    {
     "data": {
      "text/plain": [
       "<matplotlib.colorbar.Colorbar at 0x7f7ae201fc50>"
      ]
     },
     "execution_count": 84,
     "metadata": {},
     "output_type": "execute_result"
    }
   ],
   "source": [
    "#open csv into a frame:\n",
    "inputcorpus=\"200_corpusPBC_intersection_nooutliers_avgscaler.csv\"\n",
    "data = pd.read_csv(inputcorpus,index_col=0)\n",
    "\n",
    "criteriax=data['word_types'].mean()\n",
    "criteriay=data['cum_freq'].mean()\n",
    "criteriaz=data['idiosincracy_index'].mean()\n",
    "#Regions:\n",
    "lowlowlow= pd.DataFrame(data.loc[(data['word_types']<criteriax) & (data['cum_freq']<criteriay)&(data['idiosincracy_index']<criteriaz)])\n",
    "lowlowlow['region']=1\n",
    "\n",
    "lowlowhigh=pd.DataFrame(data.loc[(data['word_types']<criteriax) & (data['cum_freq']<criteriay)&(data['idiosincracy_index']>criteriaz)])\n",
    "lowlowhigh['region']=2\n",
    "\n",
    "lowhighlow=pd.DataFrame(data.loc[(data['word_types']<criteriax) & (data['cum_freq']>criteriay)&(data['idiosincracy_index']<criteriaz)])\n",
    "lowhighlow['region']=3\n",
    "\n",
    "lowhighhigh=pd.DataFrame(data.loc[(data['word_types']<criteriax) & (data['cum_freq']>criteriay)&(data['idiosincracy_index']>criteriaz)])\n",
    "lowhighhigh['region']=4\n",
    "\n",
    "highhighhigh=pd.DataFrame(data.loc[(data['word_types']>criteriax) & (data['cum_freq']>criteriay)&(data['idiosincracy_index']>criteriaz)])\n",
    "highhighhigh['region']=5\n",
    "\n",
    "highhighlow=pd.DataFrame(data.loc[(data['word_types']>criteriax) & (data['cum_freq']>criteriay)&(data['idiosincracy_index']<criteriaz)])\n",
    "highhighlow['region']=6\n",
    "\n",
    "highlowhigh=pd.DataFrame(data.loc[(data['word_types']>criteriax) & (data['cum_freq']<criteriay)&(data['idiosincracy_index']>criteriaz)])\n",
    "highlowhigh['region']=7\n",
    "\n",
    "highlowlow=pd.DataFrame(data.loc[(data['word_types']>criteriax) & (data['cum_freq']<criteriay)&(data['idiosincracy_index']<criteriaz)])\n",
    "highlowlow['region']=8\n",
    "#=filter(A2:D25,B2:B25<=B26, C2:C25<=C26,D2:D25<=D26)\n",
    "#vertical concatenation:\n",
    "data_regions= pd.concat([lowlowlow, lowlowhigh, lowhighlow, lowhighhigh, highhighhigh, highhighlow, highlowhigh, highlowlow  ], axis=0)\n",
    "\n",
    "output=inputcorpus.replace('.csv', '')\n",
    "output=output+\"_avgscaler_regions\"\n",
    "data_regions.to_csv(output+\".csv\")\n",
    "\n",
    "colors=data_regions['region'].tolist()\n",
    "labels=data_regions.index.tolist() #languages\n",
    "\n",
    "###\n",
    "\n",
    "fig = plt.figure(figsize=(20, 10))\n",
    "ax = fig.add_subplot(111, projection='3d')\n",
    "\n",
    "xs = data_regions['word_types']\n",
    "ys = data_regions['cum_freq']\n",
    "zs = data_regions['idiosincracy_index']\n",
    "\n",
    "\n",
    "ax.set_xlabel('Num. of types that contain the subword')\n",
    "ax.set_ylabel('Cum. freq')\n",
    "ax.set_zlabel('Idiosincracy_index')\n",
    "#ax.set_xlim(-3, 3)\n",
    "#ax.set_ylim(-2.5, 2.5)\n",
    "#ax.set_zlim(-3,3)\n",
    "\n",
    "img=ax.scatter(xs, ys, zs, s=50, alpha=0.6, edgecolors='w', c=colors,cmap='Dark2')\n",
    "\n",
    "for x, y, z, label in zip(xs, ys, zs, labels):\n",
    "   ax.text(x, y, z, label)\n",
    "    \n",
    "fig.colorbar(img)"
   ]
  },
  {
   "cell_type": "code",
   "execution_count": null,
   "id": "convertible-slovak",
   "metadata": {},
   "outputs": [],
   "source": []
  }
 ],
 "metadata": {
  "kernelspec": {
   "display_name": "Python 3",
   "language": "python",
   "name": "python3"
  },
  "language_info": {
   "codemirror_mode": {
    "name": "ipython",
    "version": 3
   },
   "file_extension": ".py",
   "mimetype": "text/x-python",
   "name": "python",
   "nbconvert_exporter": "python",
   "pygments_lexer": "ipython3",
   "version": "3.7.3"
  }
 },
 "nbformat": 4,
 "nbformat_minor": 5
}
